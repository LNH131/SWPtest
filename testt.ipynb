{
 "cells": [
  {
   "cell_type": "code",
   "execution_count": null,
   "metadata": {},
   "outputs": [
    {
     "name": "stdout",
     "output_type": "stream",
     "text": [
      "Error calling Gemini API: HTTPSConnectionPool(host='api.generativeai.google.com', port=443): Max retries exceeded with url: /v1beta2/models/gemini-pro:generateText (Caused by NameResolutionError(\"<urllib3.connection.HTTPSConnection object at 0x0000020969D957F0>: Failed to resolve 'api.generativeai.google.com' ([Errno 11001] getaddrinfo failed)\"))\n",
      "Error calling Gemini API: HTTPSConnectionPool(host='api.generativeai.google.com', port=443): Max retries exceeded with url: /v1beta2/models/gemini-pro:generateText (Caused by NameResolutionError(\"<urllib3.connection.HTTPSConnection object at 0x0000020969CD0E10>: Failed to resolve 'api.generativeai.google.com' ([Errno 11001] getaddrinfo failed)\"))\n",
      "Error calling Gemini API: HTTPSConnectionPool(host='api.generativeai.google.com', port=443): Max retries exceeded with url: /v1beta2/models/gemini-pro:generateText (Caused by NameResolutionError(\"<urllib3.connection.HTTPSConnection object at 0x0000020969CD3D90>: Failed to resolve 'api.generativeai.google.com' ([Errno 11001] getaddrinfo failed)\"))\n"
     ]
    }
   ],
   "source": []
  },
  {
   "cell_type": "code",
   "execution_count": null,
   "metadata": {},
   "outputs": [
    {
     "name": "stdout",
     "output_type": "stream",
     "text": [
      "Phản hồi từ Gemini: Hi there! How can I help you?\n"
     ]
    }
   ],
   "source": []
  },
  {
   "cell_type": "code",
   "execution_count": null,
   "metadata": {},
   "outputs": [],
   "source": []
  },
  {
   "cell_type": "code",
   "execution_count": 1,
   "metadata": {},
   "outputs": [],
   "source": [
    "from selenium import webdriver\n",
    "from selenium.webdriver.common.keys import Keys\n",
    "from selenium.webdriver.common.by import By\n",
    "from selenium.webdriver.chrome.service import Service\n",
    "from webdriver_manager.chrome import ChromeDriverManager\n",
    "from selenium.webdriver.support.ui import WebDriverWait\n",
    "from selenium.webdriver.support import expected_conditions as EC\n",
    "import time\n",
    "from selenium.common.exceptions import UnexpectedAlertPresentException,ElementNotInteractableException, WebDriverException,NoSuchElementException, TimeoutException, StaleElementReferenceException\n",
    "import random\n",
    "from selenium.webdriver.common.action_chains import ActionChains\n",
    "import string\n",
    "import re"
   ]
  },
  {
   "cell_type": "code",
   "execution_count": 2,
   "metadata": {},
   "outputs": [
    {
     "name": "stderr",
     "output_type": "stream",
     "text": [
      "Error sending stats to Plausible: error sending request for url (https://plausible.io/api/event)\n"
     ]
    }
   ],
   "source": [
    "# Set up the WebDriver\n",
    "driver = webdriver.Chrome()\n",
    "\n",
    "driver.get(\"http://localhost:9999/DEMO/login\")"
   ]
  },
  {
   "cell_type": "code",
   "execution_count": 3,
   "metadata": {},
   "outputs": [],
   "source": [
    "##check login\n",
    "def test_login_success():\n",
    "    driver.get(\"http://localhost:9999/DEMO/home\")\n",
    "    time.sleep(1.5)\n",
    "    driver.find_element(By.ID, \"username\").send_keys(\"admin\")\n",
    "    time.sleep(1.5)\n",
    "    driver.find_element(By.ID, \"password\").send_keys(\"123\")\n",
    "    time.sleep(0.5)\n",
    "    driver.find_element(By.XPATH, \"//button[@type='submit']\").click()\n",
    "    \n",
    "    # Wait for the redirection\n",
    "    WebDriverWait(driver, 10).until(EC.url_to_be(\"http://localhost:9999/DEMO/home\"))\n",
    "\n",
    "    assert driver.current_url == \"http://localhost:9999/DEMO/home\"\n",
    "def test_login_failed_invalid_username():\n",
    "    driver.get(\"http://localhost:9999/DEMO/login\")\n",
    "    time.sleep(2)\n",
    "    driver.find_element(By.ID, \"username\").send_keys(\"ngu\")\n",
    "    time.sleep(2)\n",
    "    driver.find_element(By.ID, \"password\").send_keys(\"123\")\n",
    "    time.sleep(1)\n",
    "    driver.find_element(By.XPATH, \"//button[@type='submit']\").click()\n",
    "    \n",
    "    # Wait for the error message to appear\n",
    "    WebDriverWait(driver, 10).until(EC.presence_of_element_located((By.CLASS_NAME, \"error-message\")))\n",
    "    \n",
    "    # Locate the error message and verify its content\n",
    "    error_message = driver.find_element(By.CLASS_NAME, \"error-message\").text\n",
    "    assert error_message == \"Wrong username or password\""
   ]
  },
  {
   "cell_type": "code",
   "execution_count": 4,
   "metadata": {},
   "outputs": [],
   "source": [
    "test_login_success()"
   ]
  },
  {
   "cell_type": "code",
   "execution_count": 25,
   "metadata": {},
   "outputs": [],
   "source": [
    "test_login_failed_invalid_username()"
   ]
  },
  {
   "cell_type": "code",
   "execution_count": 5,
   "metadata": {},
   "outputs": [],
   "source": [
    "def test_add_to_cart(driver, url, x):\n",
    "    \"\"\"Adds a product to the cart with a random quantity (including floats) and asserts the results on the order page.\"\"\"\n",
    "    try:\n",
    "        driver.get(url)\n",
    "\n",
    "        try:\n",
    "            add_to_cart_button = WebDriverWait(driver, 5).until(\n",
    "                EC.element_to_be_clickable((By.XPATH, \"(//a[contains(@class, 'btn') and contains(., 'Add to Cart')])[{}]\".format(x)))\n",
    "            )\n",
    "            add_to_cart_button.click()\n",
    "        except TimeoutException:\n",
    "            print(f\"Error: Could not find the 'Add to Cart' button for product index {x}. Please check the product count.\")\n",
    "            return\n",
    "        if x>7:\n",
    "            quantity_input = WebDriverWait(driver, 5).until(\n",
    "            EC.presence_of_element_located((By.ID, f\"quantity_{x+999}\"))\n",
    "        )\n",
    "        # Wait for the quantity input field to appear\n",
    "        else:\n",
    "            quantity_input = WebDriverWait(driver, 5).until(\n",
    "                EC.presence_of_element_located((By.ID, f\"quantity_{x}\"))\n",
    "            )\n",
    "\n",
    "        try:\n",
    "            # Locate the max quantity element\n",
    "            max_quantity_element = WebDriverWait(driver, 10).until(\n",
    "                EC.presence_of_element_located((By.XPATH, \"//p[@class='quantity-info']\"))\n",
    "            )\n",
    "            max_quantity_text = max_quantity_element.text.strip()\n",
    "            # Extract the numeric value as a float\n",
    "            max_quantity = float(max_quantity_text.split()[1])\n",
    "            if max_quantity <= 0:\n",
    "                max_quantity = 1.0\n",
    "        except (NoSuchElementException, ValueError) as e:\n",
    "            print(f\"Error: Could not extract max quantity: {e}\")\n",
    "            max_quantity = 1.0\n",
    "\n",
    "        # Generate a random quantity (float) within the allowed range\n",
    "        quantity = round(random.uniform(1.0, max_quantity), 1)\n",
    "\n",
    "        try:\n",
    "            # Input the random quantity\n",
    "            quantity_input.clear()\n",
    "            quantity_input.send_keys(str(quantity))\n",
    "\n",
    "            # Locate and click the submit button\n",
    "            submit_button = WebDriverWait(driver, 20).until(\n",
    "                EC.element_to_be_clickable((By.CSS_SELECTOR, \"button[type='submit']\"))\n",
    "            )\n",
    "            submit_button.click()\n",
    "            time.sleep(2)  # Crucial delay for processing\n",
    "        except (NoSuchElementException, StaleElementReferenceException, WebDriverException, ElementNotInteractableException) as e:\n",
    "            print(f\"Error during quantity input or submit: {e}\")\n",
    "            raise\n",
    "        except TimeoutException as e:\n",
    "            print(f\"Timed out waiting for elements. Check page and locators. Error: {e}\")\n",
    "            raise\n",
    "\n",
    "        # Wait for the redirection to the order page\n",
    "        WebDriverWait(driver, 20).until(EC.url_to_be(\"http://localhost:9999/DEMO/view/order/order.jsp\"))\n",
    "        print(\"Successfully redirected to order.jsp\")\n",
    "\n",
    "        # Additional assertions for the order page can be added here as needed.\n",
    "\n",
    "    except TimeoutException as e:\n",
    "        print(f\"Timeout error during any step: {e}\")\n",
    "        raise\n",
    "    except Exception as e:\n",
    "        print(f\"An unexpected error occurred: {e}\")\n",
    "        raise\n"
   ]
  },
  {
   "cell_type": "code",
   "execution_count": 6,
   "metadata": {},
   "outputs": [
    {
     "name": "stdout",
     "output_type": "stream",
     "text": [
      "Successfully redirected to order.jsp\n"
     ]
    }
   ],
   "source": [
    "url = \"http://localhost:9999/DEMO/home\"\n",
    "test_add_to_cart(driver, url, 1)"
   ]
  },
  {
   "cell_type": "code",
   "execution_count": 7,
   "metadata": {},
   "outputs": [],
   "source": [
    "##create an random address\n",
    "def generate_random_text(min_length=5, max_length=20):\n",
    "    length = random.randint(min_length, max_length)\n",
    "    return ''.join(random.choice(string.ascii_letters + string.digits) for _ in range(length))\n",
    "\n",
    "##test click submit order\n",
    "def test_place_order(driver, url):\n",
    "    try:\n",
    "        driver.get(url)\n",
    "\n",
    "        # ... (Previous code to add to cart, input quantity, etc.) ...\n",
    "\n",
    "        try:\n",
    "            address_input = WebDriverWait(driver, 10).until(\n",
    "                EC.presence_of_element_located((By.ID, \"address\"))\n",
    "            )\n",
    "            address_text = generate_random_text()\n",
    "            address_input.send_keys(address_text)\n",
    "\n",
    "            # Crucial: Find the button with the correct locator.  The provided XPATH is likely incorrect\n",
    "            place_order_button = WebDriverWait(driver, 10).until(\n",
    "                EC.element_to_be_clickable((By.XPATH, \"//button[@type='submit' and @class='submit-btn']\"))\n",
    "                #or  EC.element_to_be_clickable((By.XPATH, \"//button[text()='Place Order']\")) if the text is exact\n",
    "            )  # Use a more precise locator\n",
    "\n",
    "            if place_order_button.is_enabled():\n",
    "                place_order_button.click()\n",
    "                time.sleep(2) #Crucially a short wait\n",
    "            else:\n",
    "              print(\"Place order button is not enabled\")\n",
    "              raise Exception(\"Button not enabled\")\n",
    "        \n",
    "        except (NoSuchElementException, StaleElementReferenceException, WebDriverException, ElementNotInteractableException, TimeoutException) as e:\n",
    "            print(f\"Error during address input, button click, or order placement: {e}\")\n",
    "            raise\n",
    "\n",
    "            # 1.  Wait for the alert to appear and check it\n",
    "        try:\n",
    "             alert = WebDriverWait(driver, 10).until(EC.alert_is_present())\n",
    "             alert_text = alert.text\n",
    "             assert alert_text == \"Order placed successfully!\", f\"Alert message is not correct. Actual: {alert_text}\"\n",
    "             alert.accept() #Dismiss the alert\n",
    "        except TimeoutException:\n",
    "            raise TimeoutException (\"Alert not present in the specified timeout\")\n",
    "        except UnexpectedAlertPresentException as e:\n",
    "           print(f\"An unexpected alert was present: {e}\")\n",
    "           raise\n",
    "\n",
    "    except TimeoutException as e:\n",
    "        print(f\"Timeout error during any step: {e}\")\n",
    "        raise\n",
    "    except Exception as e:\n",
    "        print(f\"An unexpected error occurred: {e}\")\n",
    "        raise"
   ]
  },
  {
   "cell_type": "code",
   "execution_count": 8,
   "metadata": {},
   "outputs": [],
   "source": [
    "url=\"http://localhost:9999/DEMO/view/order/order.jsp\"\n",
    "test_place_order(driver,url)"
   ]
  },
  {
   "cell_type": "code",
   "execution_count": 40,
   "metadata": {},
   "outputs": [],
   "source": [
    "##wrong input in add to cart\n",
    "def test_add_to_cart_wrong(driver, url, x):\n",
    "    \"\"\"Adds a product to the cart with a random quantity.\"\"\"\n",
    "    try:\n",
    "        driver.get(url)\n",
    "\n",
    "        # Find and click the \"Add to Cart\" button.  Crucially, use presence_of_element_located\n",
    "        add_to_cart_button = WebDriverWait(driver, 20).until(\n",
    "            EC.element_to_be_clickable((By.XPATH, \"(//a[contains(@class, 'btn') and contains(., 'Add to Cart')])[{}]\".format(x)))\n",
    "        )\n",
    "        add_to_cart_button.click()\n",
    "\n",
    "        # Wait for the quantity input field to appear\n",
    "        if x>7:\n",
    "            quantity_input = WebDriverWait(driver, 5).until(\n",
    "            EC.presence_of_element_located((By.ID, f\"quantity_{x+999}\"))\n",
    "            )\n",
    "        # Wait for the quantity input field to appear\n",
    "        else:\n",
    "            quantity_input = WebDriverWait(driver, 5).until(\n",
    "                EC.presence_of_element_located((By.ID, f\"quantity_{x}\"))\n",
    "            )\n",
    "\n",
    "        try:\n",
    "            max_quantity_element = WebDriverWait(driver, 10).until(\n",
    "                EC.presence_of_element_located((By.XPATH, \"//p[@class='quantity-info']\"))\n",
    "            )\n",
    "            max_quantity_text = max_quantity_element.text.strip()\n",
    "            max_quantity = int(max_quantity_text.split()[1])\n",
    "            if max_quantity <= 0:\n",
    "                max_quantity = 1\n",
    "        except (NoSuchElementException, ValueError) as e:\n",
    "            print(f\"Error: Could not extract max quantity: {e}\")\n",
    "            max_quantity = 1\n",
    "\n",
    "        invalid_quantity = random.choice(\n",
    "            [random.randint(-100, 0), random.randint(max_quantity + 1, max_quantity + 100)]\n",
    "        )\n",
    "\n",
    "        try:\n",
    "            quantity_input.clear()\n",
    "            quantity_input.send_keys(str(invalid_quantity))\n",
    "\n",
    "\n",
    "            # **Crucial:**  More robust locator strategies for the submit button\n",
    "            submit_button = WebDriverWait(driver, 20).until(\n",
    "                #Try CSS Selector (best effort):\n",
    "                EC.element_to_be_clickable((By.CSS_SELECTOR, \"button[type='submit']\"))\n",
    "            )\n",
    "\n",
    "            # If CSS selector doesn't work, try more specific XPATH\n",
    "            if submit_button is None:\n",
    "              submit_button = WebDriverWait(driver, 20).until(\n",
    "                  EC.element_to_be_clickable((By.XPATH, \"//button[contains(@type, 'submit') and contains(., 'Confirm')]\"))  \n",
    "              )\n",
    "\n",
    "\n",
    "            if submit_button is not None:\n",
    "               submit_button.click()\n",
    "               time.sleep(2) # Crucial delay\n",
    "            else:\n",
    "                print(\"Could not find submit button with either locator.\")\n",
    "                raise Exception(\"Submit button not found\")\n",
    "\n",
    "        except (NoSuchElementException, StaleElementReferenceException, WebDriverException, ElementNotInteractableException) as e:\n",
    "            print(f\"Error during quantity input or submit: {e}\")\n",
    "            raise\n",
    "        except TimeoutException as e:\n",
    "          print(f\"Timed out waiting for elements. Check page and locators. Error: {e}\")\n",
    "          raise\n",
    "          \n",
    "\n",
    "    except TimeoutException as e:\n",
    "        print(f\"Timeout error during any step: {e}\")\n",
    "        raise\n",
    "    except Exception as e:\n",
    "        print(f\"An unexpected error occurred: {e}\")\n",
    "        raise"
   ]
  },
  {
   "cell_type": "code",
   "execution_count": 44,
   "metadata": {},
   "outputs": [
    {
     "name": "stdout",
     "output_type": "stream",
     "text": [
      "Error: Could not extract max quantity: invalid literal for int() with base 10: '100.0'\n"
     ]
    }
   ],
   "source": [
    "url = \"http://localhost:9999/DEMO/home\"  # Replace with the actual URL\n",
    "x=3\n",
    "test_add_to_cart_wrong(driver, url, x)"
   ]
  },
  {
   "cell_type": "code",
   "execution_count": null,
   "metadata": {},
   "outputs": [],
   "source": [
    "#           Methods that have the same function\n",
    "\n",
    "\n",
    "\n",
    "# 1. Find "
   ]
  }
 ],
 "metadata": {
  "kernelspec": {
   "display_name": "base",
   "language": "python",
   "name": "python3"
  },
  "language_info": {
   "codemirror_mode": {
    "name": "ipython",
    "version": 3
   },
   "file_extension": ".py",
   "mimetype": "text/x-python",
   "name": "python",
   "nbconvert_exporter": "python",
   "pygments_lexer": "ipython3",
   "version": "3.12.7"
  }
 },
 "nbformat": 4,
 "nbformat_minor": 2
}
